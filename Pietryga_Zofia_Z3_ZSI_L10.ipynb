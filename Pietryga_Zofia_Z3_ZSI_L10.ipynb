{
  "cells": [
    {
      "cell_type": "markdown",
      "metadata": {
        "id": "RE29Ox2CSQZ3"
      },
      "source": [
        "# **AUTOKODERY SPLOTOWE**"
      ]
    },
    {
      "cell_type": "markdown",
      "metadata": {
        "id": "eywwMM33gjMZ"
      },
      "source": [
        "# **IMPORT ODPOWIEDNICH BIBLIOTEK**"
      ]
    },
    {
      "cell_type": "code",
      "execution_count": null,
      "metadata": {
        "id": "2AC6PMFKyCiL"
      },
      "outputs": [],
      "source": [
        "import numpy as np\n",
        "import tensorflow as tf\n",
        "from tensorflow.keras import layers, models\n",
        "from tensorflow.keras.datasets import fashion_mnist\n",
        "import matplotlib.pyplot as plt"
      ]
    },
    {
      "cell_type": "markdown",
      "metadata": {
        "id": "-TIOu7AHglcx"
      },
      "source": [
        "# **WCZYTANIE ZBIORU DANYCH**"
      ]
    },
    {
      "cell_type": "code",
      "execution_count": null,
      "metadata": {
        "id": "Ogesetg5gOIF"
      },
      "outputs": [],
      "source": [
        "(X_train, _), (X_test, _) = fashion_mnist.load_data()"
      ]
    },
    {
      "cell_type": "code",
      "execution_count": null,
      "metadata": {
        "id": "CzyJiHfcgOE_"
      },
      "outputs": [],
      "source": []
    },
    {
      "cell_type": "markdown",
      "metadata": {
        "id": "XUFBgwGmSmWU"
      },
      "source": [
        "Podział danych na zestawy treningowy i walidacyjny.  Zbiór Fashion MNIST jest podzielony na zbiór uczący i testowy, natomiast wyodrębnimy 5000 obrazów ze zbioru treningowego do walidacji."
      ]
    },
    {
      "cell_type": "code",
      "execution_count": null,
      "metadata": {
        "id": "SI2G19vIgOCL"
      },
      "outputs": [],
      "source": [
        "# Podział na dane walidacyjne i treningowe\n",
        "X_train, X_val = X_train[:-5000], X_train[-5000:]"
      ]
    },
    {
      "cell_type": "markdown",
      "metadata": {
        "id": "JuD2Cof_goA9"
      },
      "source": [
        "# **DATA PREPROCESSING**"
      ]
    },
    {
      "cell_type": "markdown",
      "metadata": {
        "id": "1_wQMggGSoxP"
      },
      "source": [
        "**Normalizacja** odcienia pikseli do zakresu [0,1]."
      ]
    },
    {
      "cell_type": "code",
      "execution_count": null,
      "metadata": {
        "id": "X6k7EXZOgN-z"
      },
      "outputs": [],
      "source": [
        "X_train = X_train.astype(\"float32\") / 255.\n",
        "X_val = X_val.astype(\"float32\") / 255.\n",
        "X_test = X_test.astype(\"float32\") / 255."
      ]
    },
    {
      "cell_type": "markdown",
      "metadata": {
        "id": "YRdQLyY-gqBb"
      },
      "source": [
        "# **TWORZENIE MODELU**"
      ]
    },
    {
      "cell_type": "markdown",
      "metadata": {
        "id": "0qh0hYiiSrVA"
      },
      "source": [
        "Autokoder składa się z dwóch części: kodera i dekodera. Obydwa są modelami Sequential. Autokoder jest modelem Sequential, w którym po koderze występuje dekoder."
      ]
    },
    {
      "cell_type": "markdown",
      "metadata": {
        "id": "dbUjGX0WStGZ"
      },
      "source": [
        "Koder - ma na celu \"skompresowanie\" obrazu wejściowego (w tym przypadku o rozmiarze 28x28 pikseli) do mniejszej przestrzeni reprezentacji o niższej wymiarowości. Składa się z następujących warstw:\n",
        "*   Pierwsza warstwa przekształca dane wejściowe (obraz) w odpowiedni kształt, który jest zgodny z wymaganiami sieci konwolucyjnej.\n",
        "*   Pierwsza warstwa konwolucyjna z 16 filtrami, które wykonują operację konwolucji z rozmiarem filtra 3x3. Padding \"same\", funkcja aktywacji to ReLU.\n",
        "*   Pierwsza warstwa max poolingu, która zmniejsza wymiary obrazu o połowę.\n",
        "*   Druga warstwa konwolucyjna, która podobnie jak pierwsza wykonuje operację konwolucji, ale teraz z 32 filtrami.\n",
        "*   Ponowna operacja max poolingu zmniejsza wymiar obrazu o połowę.\n",
        "*   Trzecia warstwa konwolucyjna z 64 filtrami. Ponownie wykonuje konwolucję i aktywację ReLU.\n",
        "*   Kolejna operacja max poolingu.\n",
        "*   Ostatnia warstwa konwolucyjna w enkoderze. Liczba filtrów wynosi 30, co daje bardziej abstrakcyjną reprezentację wejściowego obrazu.\n",
        "*  **GlobalAvgPool2D()** - warstwa globalnego uśredniania, która zmienia przestrzenny rozmiar obrazu do pojedynczej liczby przez obliczenie średniej wartości w każdym kanale. Wynikiem tej warstwy jest wektor o rozmiarze 30 (liczba kanałów)."
      ]
    },
    {
      "cell_type": "code",
      "execution_count": null,
      "metadata": {
        "id": "sh9M2RjI0ooB"
      },
      "outputs": [],
      "source": [
        "encoder = tf.keras.Sequential([\n",
        "    tf.keras.layers.Reshape([28,28,1]),\n",
        "    tf.keras.layers.Conv2D(16, 3, padding = \"same\", activation='relu'),\n",
        "    tf.keras.layers.MaxPool2D(pool_size=2),\n",
        "    tf.keras.layers.Conv2D(32, 3, padding = \"same\", activation='relu'),\n",
        "    tf.keras.layers.MaxPool2D(pool_size=2),\n",
        "    tf.keras.layers.Conv2D(64, 3, padding = \"same\", activation='relu'),\n",
        "    tf.keras.layers.MaxPool2D(pool_size=2),\n",
        "    tf.keras.layers.Conv2D(30, 3, padding = \"same\", activation='relu'),\n",
        "    tf.keras.layers.GlobalAvgPool2D()\n",
        "])"
      ]
    },
    {
      "cell_type": "markdown",
      "metadata": {
        "id": "6W-DCSm3SvGL"
      },
      "source": [
        "Dekoder - ma za zadanie odtworzenie obrazu na podstawie skompresowanej reprezentacji uzyskanej przez enkoder.\n",
        "*   Warstwa gęsta 3x3x16.\n",
        "*   Warstwa przekształcająca dane z powrotem do postaci obrazu o wymiarach 3x3 i 16 kanałach.\n",
        "*   Warstwa transponowanej konwolucji. Zwiększa wymiary obrazu o współczynnik 2 i stosuje 32 filtry, funkcja aktywacji to ReLU.\n",
        "*   Warstwa transponowanej konwolucji. Zwiększa wymiary obrazu o współczynnik 2 i stosuje 16 filtry, funkcja aktywacji to ReLU, padding \"same\".\n",
        "*   Ostatnia warstwa transponowanej konwolucji, która generuje obraz o jednym kanale (np. w odcieniach szarości) i wielkości 28x28,  padding \"same\"\n",
        "*   Na końcu obrazu przywracany jest ostateczny kształt 28x28. Rekonstruowany obraz ma taki sam rozmiar jak oryginalny obraz wejściowy."
      ]
    },
    {
      "cell_type": "code",
      "execution_count": null,
      "metadata": {
        "id": "w2nomnKedpvm"
      },
      "outputs": [],
      "source": [
        "decoder = tf.keras.Sequential([\n",
        "    tf.keras.layers.Dense(3 * 3 * 16),\n",
        "    tf.keras.layers.Reshape((3, 3, 16)),\n",
        "    tf.keras.layers.Conv2DTranspose(32, 3, strides=2, activation='relu'),\n",
        "    tf.keras.layers.Conv2DTranspose(16, 3, strides=2, activation='relu', padding = \"same\"),\n",
        "    tf.keras.layers.Conv2DTranspose(1, 3, strides=2, padding = \"same\"),\n",
        "    tf.keras.layers.Reshape([28,28])\n",
        "])"
      ]
    },
    {
      "cell_type": "code",
      "execution_count": null,
      "metadata": {
        "id": "67UN1XZFjaAA"
      },
      "outputs": [],
      "source": [
        "encoder.build(input_shape=(None, 28, 28, 1))"
      ]
    },
    {
      "cell_type": "code",
      "execution_count": null,
      "metadata": {
        "id": "Tee95aIyuBlW"
      },
      "outputs": [],
      "source": [
        "autoencoder = models.Sequential([encoder, decoder])"
      ]
    },
    {
      "cell_type": "code",
      "execution_count": null,
      "metadata": {
        "id": "e4M8GgOqdppg"
      },
      "outputs": [],
      "source": []
    },
    {
      "cell_type": "markdown",
      "metadata": {
        "id": "Yo2eJUD1TNhJ"
      },
      "source": [
        "# **KOMPILOWANIE MODELU**"
      ]
    },
    {
      "cell_type": "markdown",
      "metadata": {
        "id": "lpNeae9GS54Q"
      },
      "source": [
        "Jako optmalizator należy zastostosować nadam. Funkcją kosztu jest MSE."
      ]
    },
    {
      "cell_type": "code",
      "execution_count": null,
      "metadata": {
        "id": "KOhgABRk1Pz8"
      },
      "outputs": [],
      "source": [
        "autoencoder.compile(optimizer='adam', loss='mse')"
      ]
    },
    {
      "cell_type": "markdown",
      "metadata": {
        "id": "L18CjabJRCGY"
      },
      "source": [
        "# **TRENING AUTOKODERA**"
      ]
    },
    {
      "cell_type": "markdown",
      "metadata": {
        "id": "LRDAfpZLS9-V"
      },
      "source": [
        "Należy wywołać metodę fit(). X_train zostaje użyte jako dane wejściowe i dane docelowe. Liczba epok jest równa 50. Przebieg walidacyjny."
      ]
    },
    {
      "cell_type": "code",
      "execution_count": null,
      "metadata": {
        "colab": {
          "background_save": true,
          "base_uri": "https://localhost:8080/"
        },
        "id": "RXE-JCQc1soy",
        "outputId": "6afe586b-4de2-47f4-a165-c7b6283738ad"
      },
      "outputs": [
        {
          "name": "stdout",
          "output_type": "stream",
          "text": [
            "Epoch 1/50\n",
            "\u001b[1m430/430\u001b[0m \u001b[32m━━━━━━━━━━━━━━━━━━━━\u001b[0m\u001b[37m\u001b[0m \u001b[1m64s\u001b[0m 141ms/step - loss: 0.0765 - val_loss: 0.0286\n",
            "Epoch 2/50\n",
            "\u001b[1m430/430\u001b[0m \u001b[32m━━━━━━━━━━━━━━━━━━━━\u001b[0m\u001b[37m\u001b[0m \u001b[1m77s\u001b[0m 132ms/step - loss: 0.0264 - val_loss: 0.0229\n",
            "Epoch 3/50\n",
            "\u001b[1m430/430\u001b[0m \u001b[32m━━━━━━━━━━━━━━━━━━━━\u001b[0m\u001b[37m\u001b[0m \u001b[1m83s\u001b[0m 134ms/step - loss: 0.0220 - val_loss: 0.0210\n",
            "Epoch 4/50\n",
            "\u001b[1m430/430\u001b[0m \u001b[32m━━━━━━━━━━━━━━━━━━━━\u001b[0m\u001b[37m\u001b[0m \u001b[1m83s\u001b[0m 138ms/step - loss: 0.0200 - val_loss: 0.0190\n",
            "Epoch 5/50\n",
            "\u001b[1m430/430\u001b[0m \u001b[32m━━━━━━━━━━━━━━━━━━━━\u001b[0m\u001b[37m\u001b[0m \u001b[1m81s\u001b[0m 136ms/step - loss: 0.0186 - val_loss: 0.0181\n",
            "Epoch 6/50\n",
            "\u001b[1m430/430\u001b[0m \u001b[32m━━━━━━━━━━━━━━━━━━━━\u001b[0m\u001b[37m\u001b[0m \u001b[1m81s\u001b[0m 133ms/step - loss: 0.0176 - val_loss: 0.0171\n",
            "Epoch 7/50\n",
            "\u001b[1m430/430\u001b[0m \u001b[32m━━━━━━━━━━━━━━━━━━━━\u001b[0m\u001b[37m\u001b[0m \u001b[1m62s\u001b[0m 143ms/step - loss: 0.0168 - val_loss: 0.0165\n",
            "Epoch 8/50\n",
            "\u001b[1m430/430\u001b[0m \u001b[32m━━━━━━━━━━━━━━━━━━━━\u001b[0m\u001b[37m\u001b[0m \u001b[1m77s\u001b[0m 132ms/step - loss: 0.0164 - val_loss: 0.0161\n",
            "Epoch 9/50\n",
            "\u001b[1m430/430\u001b[0m \u001b[32m━━━━━━━━━━━━━━━━━━━━\u001b[0m\u001b[37m\u001b[0m \u001b[1m82s\u001b[0m 133ms/step - loss: 0.0159 - val_loss: 0.0157\n",
            "Epoch 10/50\n",
            "\u001b[1m430/430\u001b[0m \u001b[32m━━━━━━━━━━━━━━━━━━━━\u001b[0m\u001b[37m\u001b[0m \u001b[1m85s\u001b[0m 139ms/step - loss: 0.0154 - val_loss: 0.0153\n",
            "Epoch 11/50\n",
            "\u001b[1m430/430\u001b[0m \u001b[32m━━━━━━━━━━━━━━━━━━━━\u001b[0m\u001b[37m\u001b[0m \u001b[1m81s\u001b[0m 136ms/step - loss: 0.0151 - val_loss: 0.0152\n",
            "Epoch 12/50\n",
            "\u001b[1m430/430\u001b[0m \u001b[32m━━━━━━━━━━━━━━━━━━━━\u001b[0m\u001b[37m\u001b[0m \u001b[1m81s\u001b[0m 134ms/step - loss: 0.0147 - val_loss: 0.0146\n",
            "Epoch 13/50\n",
            "\u001b[1m430/430\u001b[0m \u001b[32m━━━━━━━━━━━━━━━━━━━━\u001b[0m\u001b[37m\u001b[0m \u001b[1m83s\u001b[0m 137ms/step - loss: 0.0144 - val_loss: 0.0143\n",
            "Epoch 14/50\n",
            "\u001b[1m430/430\u001b[0m \u001b[32m━━━━━━━━━━━━━━━━━━━━\u001b[0m\u001b[37m\u001b[0m \u001b[1m84s\u001b[0m 141ms/step - loss: 0.0142 - val_loss: 0.0143\n",
            "Epoch 15/50\n",
            "\u001b[1m430/430\u001b[0m \u001b[32m━━━━━━━━━━━━━━━━━━━━\u001b[0m\u001b[37m\u001b[0m \u001b[1m59s\u001b[0m 138ms/step - loss: 0.0140 - val_loss: 0.0140\n",
            "Epoch 16/50\n",
            "\u001b[1m430/430\u001b[0m \u001b[32m━━━━━━━━━━━━━━━━━━━━\u001b[0m\u001b[37m\u001b[0m \u001b[1m58s\u001b[0m 136ms/step - loss: 0.0138 - val_loss: 0.0138\n",
            "Epoch 17/50\n",
            "\u001b[1m430/430\u001b[0m \u001b[32m━━━━━━━━━━━━━━━━━━━━\u001b[0m\u001b[37m\u001b[0m \u001b[1m60s\u001b[0m 141ms/step - loss: 0.0135 - val_loss: 0.0138\n",
            "Epoch 18/50\n",
            "\u001b[1m430/430\u001b[0m \u001b[32m━━━━━━━━━━━━━━━━━━━━\u001b[0m\u001b[37m\u001b[0m \u001b[1m60s\u001b[0m 139ms/step - loss: 0.0135 - val_loss: 0.0133\n",
            "Epoch 19/50\n",
            "\u001b[1m430/430\u001b[0m \u001b[32m━━━━━━━━━━━━━━━━━━━━\u001b[0m\u001b[37m\u001b[0m \u001b[1m83s\u001b[0m 141ms/step - loss: 0.0133 - val_loss: 0.0133\n",
            "Epoch 20/50\n",
            "\u001b[1m430/430\u001b[0m \u001b[32m━━━━━━━━━━━━━━━━━━━━\u001b[0m\u001b[37m\u001b[0m \u001b[1m83s\u001b[0m 143ms/step - loss: 0.0131 - val_loss: 0.0132\n",
            "Epoch 21/50\n",
            "\u001b[1m430/430\u001b[0m \u001b[32m━━━━━━━━━━━━━━━━━━━━\u001b[0m\u001b[37m\u001b[0m \u001b[1m79s\u001b[0m 136ms/step - loss: 0.0130 - val_loss: 0.0130\n",
            "Epoch 22/50\n",
            "\u001b[1m430/430\u001b[0m \u001b[32m━━━━━━━━━━━━━━━━━━━━\u001b[0m\u001b[37m\u001b[0m \u001b[1m84s\u001b[0m 141ms/step - loss: 0.0128 - val_loss: 0.0129\n",
            "Epoch 23/50\n",
            "\u001b[1m430/430\u001b[0m \u001b[32m━━━━━━━━━━━━━━━━━━━━\u001b[0m\u001b[37m\u001b[0m \u001b[1m83s\u001b[0m 144ms/step - loss: 0.0128 - val_loss: 0.0128\n",
            "Epoch 24/50\n",
            "\u001b[1m430/430\u001b[0m \u001b[32m━━━━━━━━━━━━━━━━━━━━\u001b[0m\u001b[37m\u001b[0m \u001b[1m80s\u001b[0m 140ms/step - loss: 0.0126 - val_loss: 0.0127\n",
            "Epoch 25/50\n",
            "\u001b[1m430/430\u001b[0m \u001b[32m━━━━━━━━━━━━━━━━━━━━\u001b[0m\u001b[37m\u001b[0m \u001b[1m82s\u001b[0m 141ms/step - loss: 0.0126 - val_loss: 0.0128\n",
            "Epoch 26/50\n",
            "\u001b[1m430/430\u001b[0m \u001b[32m━━━━━━━━━━━━━━━━━━━━\u001b[0m\u001b[37m\u001b[0m \u001b[1m83s\u001b[0m 144ms/step - loss: 0.0125 - val_loss: 0.0125\n",
            "Epoch 27/50\n",
            "\u001b[1m430/430\u001b[0m \u001b[32m━━━━━━━━━━━━━━━━━━━━\u001b[0m\u001b[37m\u001b[0m \u001b[1m80s\u001b[0m 140ms/step - loss: 0.0123 - val_loss: 0.0125\n",
            "Epoch 28/50\n",
            "\u001b[1m430/430\u001b[0m \u001b[32m━━━━━━━━━━━━━━━━━━━━\u001b[0m\u001b[37m\u001b[0m \u001b[1m83s\u001b[0m 143ms/step - loss: 0.0123 - val_loss: 0.0125\n",
            "Epoch 29/50\n",
            "\u001b[1m430/430\u001b[0m \u001b[32m━━━━━━━━━━━━━━━━━━━━\u001b[0m\u001b[37m\u001b[0m \u001b[1m62s\u001b[0m 145ms/step - loss: 0.0122 - val_loss: 0.0122\n",
            "Epoch 30/50\n",
            "\u001b[1m430/430\u001b[0m \u001b[32m━━━━━━━━━━━━━━━━━━━━\u001b[0m\u001b[37m\u001b[0m \u001b[1m82s\u001b[0m 144ms/step - loss: 0.0121 - val_loss: 0.0122\n",
            "Epoch 31/50\n",
            "\u001b[1m430/430\u001b[0m \u001b[32m━━━━━━━━━━━━━━━━━━━━\u001b[0m\u001b[37m\u001b[0m \u001b[1m79s\u001b[0m 138ms/step - loss: 0.0120 - val_loss: 0.0121\n",
            "Epoch 32/50\n",
            "\u001b[1m430/430\u001b[0m \u001b[32m━━━━━━━━━━━━━━━━━━━━\u001b[0m\u001b[37m\u001b[0m \u001b[1m84s\u001b[0m 143ms/step - loss: 0.0119 - val_loss: 0.0121\n",
            "Epoch 33/50\n",
            "\u001b[1m430/430\u001b[0m \u001b[32m━━━━━━━━━━━━━━━━━━━━\u001b[0m\u001b[37m\u001b[0m \u001b[1m81s\u001b[0m 140ms/step - loss: 0.0119 - val_loss: 0.0119\n",
            "Epoch 34/50\n",
            "\u001b[1m430/430\u001b[0m \u001b[32m━━━━━━━━━━━━━━━━━━━━\u001b[0m\u001b[37m\u001b[0m \u001b[1m62s\u001b[0m 143ms/step - loss: 0.0118 - val_loss: 0.0119\n",
            "Epoch 35/50\n",
            "\u001b[1m430/430\u001b[0m \u001b[32m━━━━━━━━━━━━━━━━━━━━\u001b[0m\u001b[37m\u001b[0m \u001b[1m57s\u001b[0m 132ms/step - loss: 0.0118 - val_loss: 0.0120\n",
            "Epoch 36/50\n",
            "\u001b[1m430/430\u001b[0m \u001b[32m━━━━━━━━━━━━━━━━━━━━\u001b[0m\u001b[37m\u001b[0m \u001b[1m83s\u001b[0m 133ms/step - loss: 0.0116 - val_loss: 0.0118\n",
            "Epoch 37/50\n",
            "\u001b[1m430/430\u001b[0m \u001b[32m━━━━━━━━━━━━━━━━━━━━\u001b[0m\u001b[37m\u001b[0m \u001b[1m86s\u001b[0m 142ms/step - loss: 0.0116 - val_loss: 0.0117\n",
            "Epoch 38/50\n",
            "\u001b[1m430/430\u001b[0m \u001b[32m━━━━━━━━━━━━━━━━━━━━\u001b[0m\u001b[37m\u001b[0m \u001b[1m81s\u001b[0m 139ms/step - loss: 0.0116 - val_loss: 0.0116\n",
            "Epoch 39/50\n",
            "\u001b[1m430/430\u001b[0m \u001b[32m━━━━━━━━━━━━━━━━━━━━\u001b[0m\u001b[37m\u001b[0m \u001b[1m82s\u001b[0m 140ms/step - loss: 0.0115 - val_loss: 0.0115\n",
            "Epoch 40/50\n",
            "\u001b[1m430/430\u001b[0m \u001b[32m━━━━━━━━━━━━━━━━━━━━\u001b[0m\u001b[37m\u001b[0m \u001b[1m79s\u001b[0m 133ms/step - loss: 0.0114 - val_loss: 0.0115\n",
            "Epoch 41/50\n",
            "\u001b[1m430/430\u001b[0m \u001b[32m━━━━━━━━━━━━━━━━━━━━\u001b[0m\u001b[37m\u001b[0m \u001b[1m85s\u001b[0m 139ms/step - loss: 0.0114 - val_loss: 0.0116\n",
            "Epoch 42/50\n",
            "\u001b[1m430/430\u001b[0m \u001b[32m━━━━━━━━━━━━━━━━━━━━\u001b[0m\u001b[37m\u001b[0m \u001b[1m82s\u001b[0m 138ms/step - loss: 0.0113 - val_loss: 0.0114\n",
            "Epoch 43/50\n",
            "\u001b[1m430/430\u001b[0m \u001b[32m━━━━━━━━━━━━━━━━━━━━\u001b[0m\u001b[37m\u001b[0m \u001b[1m81s\u001b[0m 137ms/step - loss: 0.0112 - val_loss: 0.0114\n",
            "Epoch 44/50\n",
            "\u001b[1m430/430\u001b[0m \u001b[32m━━━━━━━━━━━━━━━━━━━━\u001b[0m\u001b[37m\u001b[0m \u001b[1m60s\u001b[0m 141ms/step - loss: 0.0112 - val_loss: 0.0114\n",
            "Epoch 45/50\n",
            "\u001b[1m430/430\u001b[0m \u001b[32m━━━━━━━━━━━━━━━━━━━━\u001b[0m\u001b[37m\u001b[0m \u001b[1m84s\u001b[0m 146ms/step - loss: 0.0111 - val_loss: 0.0112\n",
            "Epoch 46/50\n",
            "\u001b[1m430/430\u001b[0m \u001b[32m━━━━━━━━━━━━━━━━━━━━\u001b[0m\u001b[37m\u001b[0m \u001b[1m78s\u001b[0m 138ms/step - loss: 0.0111 - val_loss: 0.0112\n",
            "Epoch 47/50\n",
            "\u001b[1m430/430\u001b[0m \u001b[32m━━━━━━━━━━━━━━━━━━━━\u001b[0m\u001b[37m\u001b[0m \u001b[1m79s\u001b[0m 131ms/step - loss: 0.0110 - val_loss: 0.0113\n",
            "Epoch 48/50\n",
            "\u001b[1m430/430\u001b[0m \u001b[32m━━━━━━━━━━━━━━━━━━━━\u001b[0m\u001b[37m\u001b[0m \u001b[1m63s\u001b[0m 146ms/step - loss: 0.0110 - val_loss: 0.0112\n",
            "Epoch 49/50\n",
            "\u001b[1m430/430\u001b[0m \u001b[32m━━━━━━━━━━━━━━━━━━━━\u001b[0m\u001b[37m\u001b[0m \u001b[1m77s\u001b[0m 135ms/step - loss: 0.0110 - val_loss: 0.0110\n",
            "Epoch 50/50\n",
            "\u001b[1m430/430\u001b[0m \u001b[32m━━━━━━━━━━━━━━━━━━━━\u001b[0m\u001b[37m\u001b[0m \u001b[1m80s\u001b[0m 131ms/step - loss: 0.0109 - val_loss: 0.0113\n"
          ]
        }
      ],
      "source": [
        "history = autoencoder.fit(\n",
        "    X_train, X_train,\n",
        "    epochs=50,\n",
        "    batch_size=128,\n",
        "    validation_data=(X_val, X_val)\n",
        ")"
      ]
    },
    {
      "cell_type": "markdown",
      "metadata": {
        "id": "qLWjf4Xsg5gx"
      },
      "source": [
        "# **WIZUALIZOWANIE REKONSTRUKCJI**"
      ]
    },
    {
      "cell_type": "markdown",
      "metadata": {
        "id": "X6j6tbxhTDe5"
      },
      "source": [
        "Należy porównać dane wejściowe z wyjściowymi, w tym celu trzeba wyświetlić kilka obrazów z zestawu walidacyjnego wraz z ich rekonstrukcjami."
      ]
    },
    {
      "cell_type": "code",
      "execution_count": null,
      "metadata": {
        "colab": {
          "background_save": true
        },
        "id": "QO1azWE5hAaf",
        "outputId": "0238a5fb-a948-4b4a-8ea8-c5ed1f211112"
      },
      "outputs": [
        {
          "name": "stdout",
          "output_type": "stream",
          "text": [
            "\u001b[1m1/1\u001b[0m \u001b[32m━━━━━━━━━━━━━━━━━━━━\u001b[0m\u001b[37m\u001b[0m \u001b[1m0s\u001b[0m 166ms/step\n"
          ]
        },
        {
          "data": {
            "image/png": "[encoded data removed]",
            "text/plain": [
              "<Figure size 2000x400 with 20 Axes>"
            ]
          },
          "metadata": {},
          "output_type": "display_data"
        }
      ],
      "source": [
        "def visualize_reconstruction(autoencoder, data, num_images=10):\n",
        "    reconstructed = autoencoder.predict(data[:num_images])\n",
        "\n",
        "    plt.figure(figsize=(20, 4))\n",
        "    for i in range(num_images):\n",
        "        # Oryginalny obraz\n",
        "        plt.subplot(2, num_images, i + 1)\n",
        "        plt.imshow(data[i].squeeze(), cmap='gray')\n",
        "        plt.axis('off')\n",
        "\n",
        "        # Rekonstrukcja\n",
        "        plt.subplot(2, num_images, i + 1 + num_images)\n",
        "        plt.imshow(reconstructed[i].squeeze(), cmap='gray')\n",
        "        plt.axis('off')\n",
        "\n",
        "    plt.show()\n",
        "\n",
        "# Wizualizacja wyników\n",
        "visualize_reconstruction(autoencoder, X_val)"
      ]
    },
    {
      "cell_type": "code",
      "execution_count": null,
      "metadata": {
        "colab": {
          "background_save": true
        },
        "id": "IqnK6qcwiJ9m"
      },
      "outputs": [],
      "source": []
    }
  ],
  "metadata": {
    "colab": {
      "provenance": []
    },
    "kernelspec": {
      "display_name": "Python 3",
      "name": "python3"
    },
    "language_info": {
      "name": "python"
    }
  },
  "nbformat": 4,
  "nbformat_minor": 0
}